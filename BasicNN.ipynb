{
 "cells": [
  {
   "cell_type": "markdown",
   "metadata": {},
   "source": [
    "# Learn Pytorch Lightning Tutorial"
   ]
  },
  {
   "cell_type": "markdown",
   "metadata": {},
   "source": [
    "## Create a simple NN with only Pytorch\n",
    "\n",
    "First we will create and train a simple NN only with Pytorch. Then we will repeat the same procedures with Pytorch Lightning."
   ]
  },
  {
   "cell_type": "code",
   "execution_count": 31,
   "metadata": {},
   "outputs": [],
   "source": [
    "import torch\n",
    "import torch.nn as nn\n",
    "import torch.nn.functional as F\n",
    "from torch.optim import SGD\n",
    "\n",
    "import lightning as L\n",
    "# For Lighting version 2.x\n",
    "from lightning.pytorch.tuner import Tuner\n",
    "from torch.utils.data import TensorDataset, DataLoader\n",
    "\n",
    "import matplotlib.pyplot as plt\n",
    "import seaborn as sns"
   ]
  },
  {
   "cell_type": "code",
   "execution_count": 32,
   "metadata": {},
   "outputs": [],
   "source": [
    "# Assume the model parameters have already been optimised by back propagation (pre-trained)\n",
    "class BasicNN(nn.Module):\n",
    "\n",
    "    def __init__(self):\n",
    "        \n",
    "        super().__init__()\n",
    "\n",
    "        self.w00 = nn.Parameter(torch.tensor(1.7), requires_grad=False)\n",
    "        self.b00 = nn.Parameter(torch.tensor(-0.85), requires_grad=False)\n",
    "        self.w01 = nn.Parameter(torch.tensor(-40.8), requires_grad=False)\n",
    "\n",
    "        self.w10 = nn.Parameter(torch.tensor(12.6), requires_grad=False)\n",
    "        self.b10 = nn.Parameter(torch.tensor(0.0), requires_grad=False)\n",
    "        self.w11 = nn.Parameter(torch.tensor(2.7), requires_grad=False)\n",
    "\n",
    "        self.final_bias = nn.Parameter(torch.tensor(-16.0), requires_grad=False)\n",
    "\n",
    "    def forward(self, input):\n",
    "\n",
    "        input_to_top_relu = input * self.w00 + self.b00\n",
    "        top_relu_output = F.relu(input_to_top_relu)\n",
    "        scaled_top_relu_output = top_relu_output * self.w01\n",
    "\n",
    "        input_to_bottom_relu = input * self.w10 + self.b10\n",
    "        bottom_relu_output = F.relu(input_to_bottom_relu)\n",
    "        scaled_bottom_relu_output = bottom_relu_output * self.w11\n",
    "\n",
    "        input_to_final_relu =  scaled_top_relu_output + scaled_bottom_relu_output + self.final_bias\n",
    "        output = F.relu(input_to_final_relu)\n",
    "\n",
    "        return output"
   ]
  },
  {
   "cell_type": "code",
   "execution_count": 33,
   "metadata": {},
   "outputs": [
    {
     "data": {
      "text/plain": [
       "tensor([0.0000, 0.1000, 0.2000, 0.3000, 0.4000, 0.5000, 0.6000, 0.7000, 0.8000,\n",
       "        0.9000, 1.0000])"
      ]
     },
     "execution_count": 33,
     "metadata": {},
     "output_type": "execute_result"
    }
   ],
   "source": [
    "# Create input values to test the model\n",
    "input_doses = torch.linspace(0, 1, steps=11)\n",
    "input_doses"
   ]
  },
  {
   "cell_type": "code",
   "execution_count": 34,
   "metadata": {},
   "outputs": [
    {
     "data": {
      "text/plain": [
       "tensor([0.0000, 0.0000, 0.0000, 0.0000, 0.0000, 1.0100, 0.0000, 0.0000, 0.0000,\n",
       "        0.0000, 0.0000])"
      ]
     },
     "execution_count": 34,
     "metadata": {},
     "output_type": "execute_result"
    }
   ],
   "source": [
    "# Create an instance of the model class\n",
    "model = BasicNN()\n",
    "output_values = model(input_doses)\n",
    "output_values"
   ]
  },
  {
   "cell_type": "code",
   "execution_count": 35,
   "metadata": {},
   "outputs": [
    {
     "data": {
      "image/png": "[encoded data removed]",
      "text/plain": [
       "<Figure size 640x480 with 1 Axes>"
      ]
     },
     "metadata": {},
     "output_type": "display_data"
    }
   ],
   "source": [
    "# Set up the style of seaborn\n",
    "sns.set_theme(style=\"whitegrid\")\n",
    "sns.lineplot(x=input_doses,\n",
    "             y=output_values,\n",
    "             color=\"green\",\n",
    "             linewidth=2.5)\n",
    "\n",
    "plt.ylabel(\"Effectiveness\")\n",
    "plt.xlabel(\"Dose\");"
   ]
  },
  {
   "cell_type": "markdown",
   "metadata": {},
   "source": [
    "## Train a parameter with only PyTorch\n",
    "\n",
    "Tweak the value of `final_bias` (by setting it to 0) and then try to optimize it via training."
   ]
  },
  {
   "cell_type": "code",
   "execution_count": 36,
   "metadata": {},
   "outputs": [],
   "source": [
    "class BasicNNTrain(nn.Module):\n",
    "\n",
    "    def __init__(self):\n",
    "        \n",
    "        super().__init__()\n",
    "\n",
    "        self.w00 = nn.Parameter(torch.tensor(1.7), requires_grad=False)\n",
    "        self.b00 = nn.Parameter(torch.tensor(-0.85), requires_grad=False)\n",
    "        self.w01 = nn.Parameter(torch.tensor(-40.8), requires_grad=False)\n",
    "\n",
    "        self.w10 = nn.Parameter(torch.tensor(12.6), requires_grad=False)\n",
    "        self.b10 = nn.Parameter(torch.tensor(0.0), requires_grad=False)\n",
    "        self.w11 = nn.Parameter(torch.tensor(2.7), requires_grad=False)\n",
    "\n",
    "        # Setting the bias to 0 so that we can improve it by training the model\n",
    "        self.final_bias = nn.Parameter(torch.tensor(0.0), requires_grad=True)\n",
    "\n",
    "    def forward(self, input):\n",
    "\n",
    "        input_to_top_relu = input * self.w00 + self.b00\n",
    "        top_relu_output = F.relu(input_to_top_relu)\n",
    "        scaled_top_relu_output = top_relu_output * self.w01\n",
    "\n",
    "        input_to_bottom_relu = input * self.w10 + self.b10\n",
    "        bottom_relu_output = F.relu(input_to_bottom_relu)\n",
    "        scaled_bottom_relu_output = bottom_relu_output * self.w11\n",
    "\n",
    "        input_to_final_relu =  scaled_top_relu_output + scaled_bottom_relu_output + self.final_bias\n",
    "        output = F.relu(input_to_final_relu)\n",
    "\n",
    "        return output"
   ]
  },
  {
   "cell_type": "code",
   "execution_count": 37,
   "metadata": {},
   "outputs": [
    {
     "data": {
      "text/plain": [
       "tensor([ 0.0000,  3.4020,  6.8040, 10.2060, 13.6080, 17.0100, 13.4760,  9.9420,\n",
       "         6.4080,  2.8740,  0.0000], grad_fn=<ReluBackward0>)"
      ]
     },
     "execution_count": 37,
     "metadata": {},
     "output_type": "execute_result"
    }
   ],
   "source": [
    "# See the impact to the model with an unoptimized parameter\n",
    "model = BasicNNTrain()\n",
    "output_values = model(input_doses)\n",
    "output_values"
   ]
  },
  {
   "cell_type": "code",
   "execution_count": 38,
   "metadata": {},
   "outputs": [
    {
     "data": {
      "text/plain": [
       "Text(0.5, 0, 'Dose')"
      ]
     },
     "execution_count": 38,
     "metadata": {},
     "output_type": "execute_result"
    },
    {
     "data": {
      "image/png": "[encoded data removed]",
      "text/plain": [
       "<Figure size 640x480 with 1 Axes>"
      ]
     },
     "metadata": {},
     "output_type": "display_data"
    }
   ],
   "source": [
    "# Set up the style of seaborn\n",
    "sns.set_theme(style=\"whitegrid\")\n",
    "sns.lineplot(x=input_doses,\n",
    "             # Detach the output because the require_grad parameter of final_bias is set to True\n",
    "             y=output_values.detach(),\n",
    "             color=\"green\",\n",
    "             linewidth=2.5)\n",
    "\n",
    "plt.ylabel(\"Effectiveness\")\n",
    "plt.xlabel(\"Dose\")"
   ]
  },
  {
   "cell_type": "code",
   "execution_count": 39,
   "metadata": {},
   "outputs": [
    {
     "data": {
      "text/plain": [
       "(tensor([0.0000, 0.5000, 1.0000]),\n",
       " tensor([0., 1., 0.]),\n",
       " torch.float32,\n",
       " torch.float32)"
      ]
     },
     "execution_count": 39,
     "metadata": {},
     "output_type": "execute_result"
    }
   ],
   "source": [
    "# Create training data\n",
    "inputs = torch.tensor([0. ,0.5, 1.])\n",
    "labels = torch.tensor([0., 1., 0.])\n",
    "inputs, labels, inputs.dtype, labels.dtype"
   ]
  },
  {
   "cell_type": "code",
   "execution_count": 40,
   "metadata": {},
   "outputs": [],
   "source": [
    "## Setup the optimizer\n",
    "optimizer = SGD(model.parameters(), lr=0.1)"
   ]
  },
  {
   "cell_type": "code",
   "execution_count": 41,
   "metadata": {},
   "outputs": [
    {
     "name": "stdout",
     "output_type": "stream",
     "text": [
      "Final bias, before optimization: 0.0\n",
      "\n",
      "Training loss: 256.3201\n",
      "\n",
      "Training loss: 164.0449\n",
      "\n",
      "Training loss: 104.9887\n",
      "\n",
      "Training loss: 67.1928\n",
      "\n",
      "Training loss: 43.0034\n",
      "\n",
      "Training loss: 27.5222\n",
      "\n",
      "Training loss: 17.6142\n",
      "\n",
      "Training loss: 11.2731\n",
      "\n",
      "Training loss: 7.2148\n",
      "\n",
      "Training loss: 4.6175\n",
      "\n",
      "Training loss: 2.9552\n",
      "\n",
      "Training loss: 1.8913\n",
      "\n",
      "Training loss: 1.2104\n",
      "\n",
      "Training loss: 0.7747\n",
      "\n",
      "Training loss: 0.4958\n",
      "\n",
      "Training loss: 0.3173\n",
      "\n",
      "Training loss: 0.2031\n",
      "\n",
      "Training loss: 0.1300\n",
      "\n",
      "Training loss: 0.0832\n",
      "\n",
      "Training loss: 0.0532\n",
      "\n",
      "Training loss: 0.0341\n",
      "\n",
      "Training loss: 0.0218\n",
      "\n",
      "Training loss: 0.0140\n",
      "\n",
      "Training loss: 0.0089\n",
      "\n",
      "Training loss: 0.0057\n",
      "\n",
      "Training loss: 0.0037\n",
      "\n",
      "Training loss: 0.0023\n",
      "\n",
      "Training loss: 0.0015\n",
      "\n",
      "Training loss: 0.0010\n",
      "\n",
      "Training loss: 0.0006\n",
      "\n",
      "Training loss: 0.0004\n",
      "\n",
      "Training loss: 0.0003\n",
      "\n",
      "Training loss: 0.0002\n",
      "\n",
      "Training loss: 0.0001\n",
      "\n",
      "Training loss: 0.0001\n",
      "\n",
      "Final bias, after optimization: -16.001882553100586\n"
     ]
    }
   ],
   "source": [
    "print(f\"Final bias, before optimization: {model.final_bias.data}\\n\")\n",
    "\n",
    "# Create the training loop\n",
    "for epoch in range(100):\n",
    "\n",
    "    total_loss = 0\n",
    "\n",
    "    # Iterating over one sample (instead of a batch) at a time\n",
    "    for iteration in range(len(inputs)):\n",
    "        \n",
    "        input_i, label_i = inputs[iteration], labels[iteration]\n",
    "        # Get the model prediction\n",
    "        output_i = model(input_i)\n",
    "        \n",
    "        loss = (output_i - label_i)**2\n",
    "        loss.backward()\n",
    "        # Convert loss from tensor to float\n",
    "        total_loss += float(loss)\n",
    "\n",
    "    # Print out the training loss per epoch\n",
    "    print(f\"Training loss: {total_loss:.4f}\\n\")\n",
    "    \n",
    "    # Stopping criteria\n",
    "    if (total_loss < 0.0001):\n",
    "        break\n",
    "\n",
    "    optimizer.step()\n",
    "    optimizer.zero_grad()\n",
    "\n",
    "print(f\"Final bias, after optimization: {model.final_bias.data}\")    \n",
    "    "
   ]
  },
  {
   "cell_type": "markdown",
   "metadata": {},
   "source": [
    "## Train the model with Pytorch + Lightning"
   ]
  },
  {
   "cell_type": "code",
   "execution_count": 42,
   "metadata": {},
   "outputs": [],
   "source": [
    "class BasicLightningTrain(L.LightningModule):\n",
    "\n",
    "    def __init__(self):\n",
    "        \n",
    "        super().__init__()\n",
    "\n",
    "        self.w00 = nn.Parameter(torch.tensor(1.7), requires_grad=False)\n",
    "        self.b00 = nn.Parameter(torch.tensor(-0.85), requires_grad=False)\n",
    "        self.w01 = nn.Parameter(torch.tensor(-40.8), requires_grad=False)\n",
    "\n",
    "        self.w10 = nn.Parameter(torch.tensor(12.6), requires_grad=False)\n",
    "        self.b10 = nn.Parameter(torch.tensor(0.0), requires_grad=False)\n",
    "        self.w11 = nn.Parameter(torch.tensor(2.7), requires_grad=False)\n",
    "\n",
    "        self.final_bias = nn.Parameter(torch.tensor(0.0), requires_grad=True)\n",
    "\n",
    "        # Set the learning rate to 0.1 right now as a placeholder, Lightning will adjust it for us during training\n",
    "        self.learning_rate = 0.01\n",
    "\n",
    "    def forward(self, input):\n",
    "\n",
    "        input_to_top_relu = input * self.w00 + self.b00\n",
    "        top_relu_output = F.relu(input_to_top_relu)\n",
    "        scaled_top_relu_output = top_relu_output * self.w01\n",
    "\n",
    "        input_to_bottom_relu = input * self.w10 + self.b10\n",
    "        bottom_relu_output = F.relu(input_to_bottom_relu)\n",
    "        scaled_bottom_relu_output = bottom_relu_output * self.w11\n",
    "\n",
    "        input_to_final_relu =  scaled_top_relu_output + scaled_bottom_relu_output + self.final_bias\n",
    "        output = F.relu(input_to_final_relu)\n",
    "\n",
    "        return output\n",
    "    \n",
    "    # Configure the optimizer in Lightning style\n",
    "    def configure_optimizers(self):\n",
    "        # Lightning will improve the learning rate for us during training\n",
    "        return SGD(model.parameters(), lr=self.learning_rate)\n",
    "    \n",
    "    # Simplied training loop in Lightning style\n",
    "    def training_step(self, batch, batch_idx):\n",
    "        input_i, label_i = batch\n",
    "        output_i = self.forward(input_i)\n",
    "        loss = (output_i - label_i)**2 \n",
    "\n",
    "        return loss"
   ]
  },
  {
   "cell_type": "code",
   "execution_count": 43,
   "metadata": {},
   "outputs": [
    {
     "data": {
      "text/plain": [
       "3"
      ]
     },
     "execution_count": 43,
     "metadata": {},
     "output_type": "execute_result"
    }
   ],
   "source": [
    "from torch.utils.data import TensorDataset, DataLoader\n",
    "\n",
    "# Create dataloader\n",
    "dataset = TensorDataset(inputs, labels)\n",
    "dataloader = DataLoader(dataset)\n",
    "len(dataloader)"
   ]
  },
  {
   "cell_type": "code",
   "execution_count": 44,
   "metadata": {},
   "outputs": [
    {
     "data": {
      "text/plain": [
       "BasicLightningTrain()"
      ]
     },
     "execution_count": 44,
     "metadata": {},
     "output_type": "execute_result"
    }
   ],
   "source": [
    "# Create an instance of the model\n",
    "model = BasicLightningTrain()\n",
    "model"
   ]
  },
  {
   "cell_type": "code",
   "execution_count": 48,
   "metadata": {},
   "outputs": [
    {
     "name": "stderr",
     "output_type": "stream",
     "text": [
      "GPU available: True (mps), used: True\n",
      "TPU available: False, using: 0 TPU cores\n",
      "HPU available: False, using: 0 HPUs\n",
      "/Users/edison/Git/pytorch-lightning-deep-learning/myenv/lib/python3.11/site-packages/lightning/pytorch/trainer/connectors/data_connector.py:424: The 'train_dataloader' does not have many workers which may be a bottleneck. Consider increasing the value of the `num_workers` argument` to `num_workers=7` in the `DataLoader` to improve performance.\n",
      "/Users/edison/Git/pytorch-lightning-deep-learning/myenv/lib/python3.11/site-packages/lightning/pytorch/loops/fit_loop.py:298: The number of training batches (3) is smaller than the logging interval Trainer(log_every_n_steps=50). Set a lower value for log_every_n_steps if you want to see logs for the training epoch.\n"
     ]
    },
    {
     "data": {
      "application/vnd.jupyter.widget-view+json": {
       "model_id": "ee8a92ec444f44c993b9759535134536",
       "version_major": 2,
       "version_minor": 0
      },
      "text/plain": [
       "Finding best initial lr:   0%|          | 0/100 [00:00<?, ?it/s]"
      ]
     },
     "metadata": {},
     "output_type": "display_data"
    },
    {
     "name": "stderr",
     "output_type": "stream",
     "text": [
      "`Trainer.fit` stopped: `max_steps=100` reached.\n",
      "Learning rate set to 0.0016595869074375606\n",
      "Restoring states from the checkpoint path at /Users/edison/Git/pytorch-lightning-deep-learning/.lr_find_8fd59fc0-ba55-4d44-accf-f782c54d5d57.ckpt\n",
      "Restored all states from the checkpoint at /Users/edison/Git/pytorch-lightning-deep-learning/.lr_find_8fd59fc0-ba55-4d44-accf-f782c54d5d57.ckpt\n"
     ]
    }
   ],
   "source": [
    "# Create an instance of a lightning trainer\n",
    "trainer = L.Trainer(max_epochs=34, accelerator=\"auto\", devices=\"auto\") # accelerator=\"auto\" detects available accelerators in your device and devices=\"auto\" tells you how many of them are available\n",
    "\n",
    "# Create a tuner \n",
    "tuner = Tuner(trainer)\n",
    "\n",
    "lr_find_results = tuner.lr_find(model,\n",
    "                                dataloader,\n",
    "                                min_lr=0.001,\n",
    "                                max_lr=0.1,\n",
    "                                early_stop_threshold=None) # mini-batches might be noisy"
   ]
  },
  {
   "cell_type": "code",
   "execution_count": 53,
   "metadata": {},
   "outputs": [
    {
     "data": {
      "text/plain": [
       "dict_keys(['lr', 'loss'])"
      ]
     },
     "execution_count": 53,
     "metadata": {},
     "output_type": "execute_result"
    }
   ],
   "source": [
    "# lr_find_results.results # returns a dictionary of lr and loss"
   ]
  },
  {
   "cell_type": "code",
   "execution_count": 55,
   "metadata": {},
   "outputs": [
    {
     "name": "stdout",
     "output_type": "stream",
     "text": [
      "The tuner suggests 0.00166 as the new learning rate.\n"
     ]
    }
   ],
   "source": [
    "new_lr = lr_find_results.suggestion()\n",
    "print(f\"The tuner suggests {new_lr:.5f} as the new learning rate.\")"
   ]
  },
  {
   "cell_type": "code",
   "execution_count": 59,
   "metadata": {},
   "outputs": [
    {
     "data": {
      "image/png": "[encoded data removed]",
      "text/plain": [
       "<Figure size 640x480 with 1 Axes>"
      ]
     },
     "metadata": {},
     "output_type": "display_data"
    }
   ],
   "source": [
    "# You can also plot a curve of lr against loss\n",
    "fig = lr_find_results.plot() # pick the lr at which the derivative is the most negative"
   ]
  },
  {
   "cell_type": "code",
   "execution_count": 60,
   "metadata": {},
   "outputs": [
    {
     "name": "stderr",
     "output_type": "stream",
     "text": [
      "\n",
      "  | Name         | Type | Params | Mode\n",
      "---------------------------------------------\n",
      "  | other params | n/a  | 7      | n/a \n",
      "---------------------------------------------\n",
      "1         Trainable params\n",
      "6         Non-trainable params\n",
      "7         Total params\n",
      "0.000     Total estimated model params size (MB)\n",
      "/Users/edison/Git/pytorch-lightning-deep-learning/myenv/lib/python3.11/site-packages/lightning/pytorch/trainer/connectors/data_connector.py:424: The 'train_dataloader' does not have many workers which may be a bottleneck. Consider increasing the value of the `num_workers` argument` to `num_workers=7` in the `DataLoader` to improve performance.\n",
      "/Users/edison/Git/pytorch-lightning-deep-learning/myenv/lib/python3.11/site-packages/lightning/pytorch/loops/fit_loop.py:298: The number of training batches (3) is smaller than the logging interval Trainer(log_every_n_steps=50). Set a lower value for log_every_n_steps if you want to see logs for the training epoch.\n"
     ]
    },
    {
     "data": {
      "application/vnd.jupyter.widget-view+json": {
       "model_id": "037691de94c64928abfd465a3e8d4552",
       "version_major": 2,
       "version_minor": 0
      },
      "text/plain": [
       "Training: |          | 0/? [00:00<?, ?it/s]"
      ]
     },
     "metadata": {},
     "output_type": "display_data"
    },
    {
     "name": "stderr",
     "output_type": "stream",
     "text": [
      "`Trainer.fit` stopped: `max_epochs=34` reached.\n"
     ]
    }
   ],
   "source": [
    "# Use the learning rate suggested by the tuner \n",
    "model.learning_rate = new_lr\n",
    "\n",
    "# Train the model\n",
    "trainer.fit(model, train_dataloaders=dataloader)"
   ]
  },
  {
   "cell_type": "code",
   "execution_count": 61,
   "metadata": {},
   "outputs": [
    {
     "name": "stdout",
     "output_type": "stream",
     "text": [
      "Final bias, after optimization: -1.7112243175506592\n"
     ]
    }
   ],
   "source": [
    "print(f\"Final bias, after optimization: {model.final_bias.data}\") # further training is needed (the optimal value is -16)"
   ]
  }
 ],
 "metadata": {
  "kernelspec": {
   "display_name": "Python 3",
   "language": "python",
   "name": "python3"
  },
  "language_info": {
   "codemirror_mode": {
    "name": "ipython",
    "version": 3
   },
   "file_extension": ".py",
   "mimetype": "text/x-python",
   "name": "python",
   "nbconvert_exporter": "python",
   "pygments_lexer": "ipython3",
   "version": "3.11.11"
  }
 },
 "nbformat": 4,
 "nbformat_minor": 2
}

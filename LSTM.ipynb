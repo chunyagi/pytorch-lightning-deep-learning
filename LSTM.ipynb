{
 "cells": [
  {
   "cell_type": "markdown",
   "metadata": {},
   "source": [
    "# Replicate the LSTM architecture with PyTorch + Lightning"
   ]
  },
  {
   "cell_type": "code",
   "execution_count": 1,
   "metadata": {},
   "outputs": [],
   "source": [
    "import torch\n",
    "import torch.nn as nn\n",
    "import torch.nn.functional as F\n",
    "from torch.optim import Adam\n",
    "\n",
    "import lightning as L\n",
    "# For Lighting version 2.x\n",
    "from lightning.pytorch.tuner import Tuner\n",
    "from lightning.pytorch.loggers import TensorBoardLogger\n",
    "from torch.utils.data import TensorDataset, DataLoader\n",
    "\n",
    "%matplotlib inline\n",
    "import matplotlib.pyplot as plt\n",
    "import seaborn as sns"
   ]
  },
  {
   "cell_type": "markdown",
   "metadata": {},
   "source": [
    "## Setup device-agnostic code"
   ]
  },
  {
   "cell_type": "code",
   "execution_count": 2,
   "metadata": {},
   "outputs": [
    {
     "data": {
      "text/plain": [
       "'mps'"
      ]
     },
     "execution_count": 2,
     "metadata": {},
     "output_type": "execute_result"
    }
   ],
   "source": [
    "device = (\n",
    "    \"cuda\" if torch.cuda.is_available()\n",
    "    else \"mps\" if torch.backends.mps.is_available()\n",
    "    else \"cpu\"\n",
    ")\n",
    "device"
   ]
  },
  {
   "cell_type": "markdown",
   "metadata": {},
   "source": [
    "## Create a training dataset"
   ]
  },
  {
   "cell_type": "code",
   "execution_count": 32,
   "metadata": {},
   "outputs": [
    {
     "data": {
      "text/plain": [
       "(tensor([[[0.0000],\n",
       "          [0.5000],\n",
       "          [0.2500],\n",
       "          [1.0000]],\n",
       " \n",
       "         [[1.0000],\n",
       "          [0.5000],\n",
       "          [0.2500],\n",
       "          [1.0000]]]),\n",
       " tensor([[0.],\n",
       "         [1.]]),\n",
       " torch.Size([2, 4, 1]),\n",
       " torch.Size([2, 1]))"
      ]
     },
     "execution_count": 32,
     "metadata": {},
     "output_type": "execute_result"
    }
   ],
   "source": [
    "# Create a training data set\n",
    "inputs = torch.tensor([[0., 0.5, 0.25, 1.], [1., 0.5, 0.25, 1.]]).unsqueeze(dim=-1) # need to an extra dimension to the last dimension as the input size (or number of features)\n",
    "labels = torch.tensor([[0.], [1.]])\n",
    "inputs, labels, inputs.shape, labels.shape"
   ]
  },
  {
   "cell_type": "markdown",
   "metadata": {},
   "source": [
    "## Create a LSTM model"
   ]
  },
  {
   "cell_type": "code",
   "execution_count": 8,
   "metadata": {},
   "outputs": [],
   "source": [
    "class LightningLSTM(L.LightningModule):\n",
    "\n",
    "    def __init__(self, \n",
    "                 hidden_size: int = 3):\n",
    "\n",
    "        super().__init__()\n",
    "\n",
    "        # input_size means the number of features and hidden_size means the dimension of the hidden state (outcome of a LSTM unit)\n",
    "        self.lstm = nn.LSTM(input_size=1, \n",
    "                            hidden_size=hidden_size,\n",
    "                            batch_first=True) # False as default\n",
    "\n",
    "        self.linear_layer = nn.Linear(in_features=hidden_size,\n",
    "                                      out_features=1)\n",
    "        \n",
    "        self.loss = nn.MSELoss()\n",
    "\n",
    "    def forward(self, input):\n",
    "\n",
    "        lstm_out, temp = self.lstm(input) # input is of shape [batch_size, seq_len, num_features] \n",
    "\n",
    "        # Pass the hidden state to the linear layer to obtain model's final output\n",
    "        prediction = self.linear_layer(lstm_out[:, -1, :]) # only need the hidden state of the final LSTM unit\n",
    "\n",
    "        return prediction\n",
    "    \n",
    "    def configure_optimizers(self):\n",
    "        return Adam(self.parameters(), lr=0.1)\n",
    "    \n",
    "    def training_step(self, batch, batch_idx):\n",
    "        input, label = batch\n",
    "        prediction = self(input)\n",
    "        loss = self.loss(prediction, label)        \n",
    "        return loss"
   ]
  },
  {
   "cell_type": "code",
   "execution_count": 33,
   "metadata": {},
   "outputs": [
    {
     "data": {
      "text/plain": [
       "tensor([[-0.3479],\n",
       "        [-0.3493]], device='mps:0', grad_fn=<LinearBackward0>)"
      ]
     },
     "execution_count": 33,
     "metadata": {},
     "output_type": "execute_result"
    }
   ],
   "source": [
    "# Test the model\n",
    "model = LightningLSTM(hidden_size=3).to(device)\n",
    "model(inputs.to(device)) # need to an extra dimension to the last dimension as the input size (or number of features)"
   ]
  },
  {
   "cell_type": "markdown",
   "metadata": {},
   "source": [
    "## Train the model with `Lightning.Trainer.fit()`"
   ]
  },
  {
   "cell_type": "code",
   "execution_count": 34,
   "metadata": {},
   "outputs": [
    {
     "data": {
      "text/plain": [
       "2"
      ]
     },
     "execution_count": 34,
     "metadata": {},
     "output_type": "execute_result"
    }
   ],
   "source": [
    "# Turn the training data into dataloader\n",
    "from torch.utils.data import TensorDataset, DataLoader\n",
    "\n",
    "dataset = TensorDataset(inputs, labels)\n",
    "dataloader = DataLoader(dataset)\n",
    "len(dataloader)"
   ]
  },
  {
   "cell_type": "code",
   "execution_count": 35,
   "metadata": {},
   "outputs": [
    {
     "name": "stderr",
     "output_type": "stream",
     "text": [
      "GPU available: True (mps), used: True\n",
      "TPU available: False, using: 0 TPU cores\n",
      "HPU available: False, using: 0 HPUs\n",
      "\n",
      "  | Name         | Type    | Params | Mode \n",
      "-------------------------------------------------\n",
      "0 | lstm         | LSTM    | 72     | train\n",
      "1 | linear_layer | Linear  | 4      | train\n",
      "2 | loss         | MSELoss | 0      | train\n",
      "-------------------------------------------------\n",
      "76        Trainable params\n",
      "0         Non-trainable params\n",
      "76        Total params\n",
      "0.000     Total estimated model params size (MB)\n",
      "/Users/edison/Git/pytorch-lightning-deep-learning/myenv/lib/python3.11/site-packages/lightning/pytorch/trainer/connectors/data_connector.py:424: The 'train_dataloader' does not have many workers which may be a bottleneck. Consider increasing the value of the `num_workers` argument` to `num_workers=7` in the `DataLoader` to improve performance.\n",
      "/Users/edison/Git/pytorch-lightning-deep-learning/myenv/lib/python3.11/site-packages/lightning/pytorch/loops/fit_loop.py:298: The number of training batches (2) is smaller than the logging interval Trainer(log_every_n_steps=50). Set a lower value for log_every_n_steps if you want to see logs for the training epoch.\n"
     ]
    },
    {
     "data": {
      "application/vnd.jupyter.widget-view+json": {
       "model_id": "f192ff17d69346a5bf5d3474d34eb953",
       "version_major": 2,
       "version_minor": 0
      },
      "text/plain": [
       "Training: |          | 0/? [00:00<?, ?it/s]"
      ]
     },
     "metadata": {},
     "output_type": "display_data"
    },
    {
     "name": "stderr",
     "output_type": "stream",
     "text": [
      "`Trainer.fit` stopped: `max_epochs=100` reached.\n"
     ]
    }
   ],
   "source": [
    "trainer = L.Trainer(max_epochs=100)\n",
    "trainer.fit(model, train_dataloaders=dataloader)"
   ]
  },
  {
   "cell_type": "code",
   "execution_count": 52,
   "metadata": {},
   "outputs": [
    {
     "name": "stdout",
     "output_type": "stream",
     "text": [
      "Sample 0: 0.0 | 0.018371671438217163\n",
      "Sample 1: 1.0 | 0.9914801716804504\n"
     ]
    }
   ],
   "source": [
    "# Test the model after training with both training samples\n",
    "for i, label in enumerate(labels):\n",
    "    print(f\"Sample {i}: {label.item()} | {model(inputs[i].unsqueeze(dim=0)).item()}\")"
   ]
  }
 ],
 "metadata": {
  "kernelspec": {
   "display_name": "Python 3",
   "language": "python",
   "name": "python3"
  },
  "language_info": {
   "codemirror_mode": {
    "name": "ipython",
    "version": 3
   },
   "file_extension": ".py",
   "mimetype": "text/x-python",
   "name": "python",
   "nbconvert_exporter": "python",
   "pygments_lexer": "ipython3",
   "version": "3.11.11"
  }
 },
 "nbformat": 4,
 "nbformat_minor": 2
}
